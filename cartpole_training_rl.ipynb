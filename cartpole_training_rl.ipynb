{
  "nbformat": 4,
  "nbformat_minor": 0,
  "metadata": {
    "colab": {
      "name": "cartpole-training-rl",
      "provenance": []
    },
    "kernelspec": {
      "name": "python3",
      "display_name": "Python 3"
    },
    "language_info": {
      "name": "python"
    }
  },
  "cells": [
    {
      "cell_type": "code",
      "execution_count": null,
      "metadata": {
        "id": "R7hCTNn2ljYl"
      },
      "outputs": [],
      "source": [
        "!pip install stable-baselines3[extra]"
      ]
    },
    {
      "cell_type": "code",
      "source": [
        "import os\n",
        "import gym\n",
        "from stable_baselines3 import PPO\n",
        "from stable_baselines3.common.vec_env import DummyVecEnv\n",
        "from stable_baselines3.common.evaluation import evaluate_policy"
      ],
      "metadata": {
        "id": "Sqy4RNgEmPyx"
      },
      "execution_count": 4,
      "outputs": []
    },
    {
      "cell_type": "code",
      "source": [
        "environment_name = \"CartPole-v0\"\n",
        "env = gym.make(environment_name)"
      ],
      "metadata": {
        "id": "Le3z71xDsKAp"
      },
      "execution_count": 32,
      "outputs": []
    },
    {
      "cell_type": "markdown",
      "source": [
        "When taking random moves either left or right"
      ],
      "metadata": {
        "id": "i8pODNmd0Vfl"
      }
    },
    {
      "cell_type": "code",
      "source": [
        "episodes = 5\n",
        "for episode in range(1, episodes+1):\n",
        "    state = env.reset()\n",
        "    done = False\n",
        "    score = 0 \n",
        "    while not done:\n",
        "        # env.render()\n",
        "        action = env.action_space.sample()\n",
        "        n_state, reward, done, info = env.step(action)\n",
        "        score+=reward\n",
        "    print('Episode:{} Score:{}'.format(episode, score))\n",
        "env.close()"
      ],
      "metadata": {
        "colab": {
          "base_uri": "https://localhost:8080/"
        },
        "id": "vwB1tnjVtEaO",
        "outputId": "731c124b-b38a-4f37-da7b-19ba8f80f557"
      },
      "execution_count": 33,
      "outputs": [
        {
          "output_type": "stream",
          "name": "stdout",
          "text": [
            "Episode:1 Score:18.0\n",
            "Episode:2 Score:18.0\n",
            "Episode:3 Score:13.0\n",
            "Episode:4 Score:13.0\n",
            "Episode:5 Score:28.0\n"
          ]
        }
      ]
    },
    {
      "cell_type": "code",
      "source": [
        "env.action_space.sample()"
      ],
      "metadata": {
        "colab": {
          "base_uri": "https://localhost:8080/"
        },
        "id": "Hswlu7gSwsYP",
        "outputId": "b87425da-1c03-4685-8b1e-f91784835095"
      },
      "execution_count": 21,
      "outputs": [
        {
          "output_type": "execute_result",
          "data": {
            "text/plain": [
              "1"
            ]
          },
          "metadata": {},
          "execution_count": 21
        }
      ]
    },
    {
      "cell_type": "code",
      "source": [
        "env.observation_space.sample()"
      ],
      "metadata": {
        "colab": {
          "base_uri": "https://localhost:8080/"
        },
        "id": "okIxnYfzww4K",
        "outputId": "d2aa866e-5d1f-475c-ffdc-672a7913cd07"
      },
      "execution_count": 19,
      "outputs": [
        {
          "output_type": "execute_result",
          "data": {
            "text/plain": [
              "array([ 5.7823002e-01, -4.5490625e+37,  1.3948818e-01,  1.3284219e+38],\n",
              "      dtype=float32)"
            ]
          },
          "metadata": {},
          "execution_count": 19
        }
      ]
    },
    {
      "cell_type": "code",
      "source": [
        "env = gym.make(environment_name)\n",
        "# env = DummyVecEnv([lambda: env])\n",
        "model = PPO('MlpPolicy', env, verbose = 1)"
      ],
      "metadata": {
        "colab": {
          "base_uri": "https://localhost:8080/"
        },
        "id": "3HDc4HTDw7RL",
        "outputId": "e57965c6-b37f-4077-ca78-62b873e60246"
      },
      "execution_count": 39,
      "outputs": [
        {
          "output_type": "stream",
          "name": "stdout",
          "text": [
            "Using cpu device\n",
            "Wrapping the env with a `Monitor` wrapper\n",
            "Wrapping the env in a DummyVecEnv.\n"
          ]
        }
      ]
    },
    {
      "cell_type": "markdown",
      "source": [
        "# **Training**"
      ],
      "metadata": {
        "id": "y8pe5aAJzDIL"
      }
    },
    {
      "cell_type": "code",
      "source": [
        "model.learn(total_timesteps=20000) # trains a model -> 1 single line"
      ],
      "metadata": {
        "id": "sNRDJKtfw-YF"
      },
      "execution_count": null,
      "outputs": []
    },
    {
      "cell_type": "code",
      "source": [
        "# obs = env.reset()\n",
        "# while True:\n",
        "#     action, _states = model.predict(obs)\n",
        "#     obs, rewards, done, info = env.step(action)\n",
        "#     # env.render()\n",
        "#     if done: \n",
        "#         print('info', info)\n",
        "#         break"
      ],
      "metadata": {
        "colab": {
          "base_uri": "https://localhost:8080/"
        },
        "id": "2SHvZVusyRxE",
        "outputId": "ab602c1f-2ac9-4335-eef5-4d5cfc6dd689"
      },
      "execution_count": 28,
      "outputs": [
        {
          "output_type": "stream",
          "name": "stdout",
          "text": [
            "info [{'TimeLimit.truncated': True, 'terminal_observation': array([-0.02880935,  0.71519613, -0.01673073, -0.7127868 ])}]\n"
          ]
        }
      ]
    },
    {
      "cell_type": "markdown",
      "source": [
        "# **Testing**"
      ],
      "metadata": {
        "id": "pwZe0x2kyybe"
      }
    },
    {
      "cell_type": "code",
      "source": [
        "episodes = 5\n",
        "for episode in range(1, episodes+1):\n",
        "    obs = env.reset()\n",
        "    done = False\n",
        "    score = 0 \n",
        "    \n",
        "    while not done:\n",
        "        # env.render()\n",
        "        action, _states = model.predict(obs)\n",
        "        obs, rewards, done, info = env.step(action)\n",
        "        score+=reward\n",
        "    print('Episode:{} Score:{}'.format(episode, score))\n",
        "env.close()"
      ],
      "metadata": {
        "colab": {
          "base_uri": "https://localhost:8080/"
        },
        "id": "R3vpchisyc6M",
        "outputId": "6ff305a1-81c0-4bf4-9a1d-ef2cae989fe6"
      },
      "execution_count": 45,
      "outputs": [
        {
          "output_type": "stream",
          "name": "stdout",
          "text": [
            "Episode:1 Score:200.0\n",
            "Episode:2 Score:200.0\n",
            "Episode:3 Score:200.0\n",
            "Episode:4 Score:200.0\n",
            "Episode:5 Score:200.0\n"
          ]
        }
      ]
    }
  ]
}